{
 "cells": [
  {
   "cell_type": "code",
   "execution_count": null,
   "id": "859954e8",
   "metadata": {},
   "outputs": [],
   "source": [
    "import json\n",
    "import pandas as pd\n",
    "import numpy as np\n"
   ]
  },
  {
   "cell_type": "code",
   "execution_count": null,
   "id": "fcd69c89",
   "metadata": {},
   "outputs": [],
   "source": [
    "file_dir = r\"C:\\Users\\Owner\\OneDrive\\Desktop\\Module 8 ETL_Extract_Transform_Load\\Movies-ETL\"\n"
   ]
  },
  {
   "cell_type": "code",
   "execution_count": null,
   "id": "4b33fe75",
   "metadata": {},
   "outputs": [],
   "source": [
    "f'{file_dir}wiki_movies_raw.json'\n"
   ]
  },
  {
   "cell_type": "code",
   "execution_count": null,
   "id": "56707540",
   "metadata": {},
   "outputs": [],
   "source": [
    "with open(f'{file_dir}/wiki_movies_raw.json', mode='r') as file:\n",
    "    wiki_movies_raw = json.load(file)\n",
    "    \n",
    "    "
   ]
  },
  {
   "cell_type": "code",
   "execution_count": null,
   "id": "b601d9b8",
   "metadata": {},
   "outputs": [],
   "source": [
    "len(wiki_movies_raw)\n"
   ]
  },
  {
   "cell_type": "code",
   "execution_count": null,
   "id": "3c556ae1",
   "metadata": {},
   "outputs": [],
   "source": [
    "# First 5 records\n",
    "\n",
    "wiki_movies_raw[:5]\n"
   ]
  },
  {
   "cell_type": "code",
   "execution_count": null,
   "id": "c8fff732",
   "metadata": {},
   "outputs": [],
   "source": [
    "# Last 5 records\n",
    "\n",
    "wiki_movies_raw[-5:]\n"
   ]
  },
  {
   "cell_type": "code",
   "execution_count": null,
   "id": "75eccf8c",
   "metadata": {},
   "outputs": [],
   "source": [
    "# Some records in the middle\n",
    "\n",
    "wiki_movies_raw[3600:3605]\n"
   ]
  },
  {
   "cell_type": "code",
   "execution_count": null,
   "id": "a1adb4cd",
   "metadata": {},
   "outputs": [],
   "source": [
    "wiki_movies_df = pd.DataFrame(wiki_movies_raw)"
   ]
  },
  {
   "cell_type": "code",
   "execution_count": null,
   "id": "5f618f6a",
   "metadata": {},
   "outputs": [],
   "source": [
    "wiki_movies_df.head()"
   ]
  },
  {
   "cell_type": "code",
   "execution_count": null,
   "id": "c09af168",
   "metadata": {},
   "outputs": [],
   "source": [
    "# Convert wiki_movies_df.columns to a list\n",
    "\n",
    "wiki_movies_df.columns.tolist()\n"
   ]
  },
  {
   "cell_type": "code",
   "execution_count": null,
   "id": "0c528e2d",
   "metadata": {},
   "outputs": [],
   "source": [
    "wiki_movies = [movie for movie in wiki_movies_raw\n",
    "               if ('Director' in movie or 'Directed by' in movie)\n",
    "                   and 'imdb_link' in movie\n",
    "                   and 'No. of episodes' not in movie]\n",
    "len(wiki_movies)"
   ]
  },
  {
   "cell_type": "code",
   "execution_count": null,
   "id": "77f2d5bf",
   "metadata": {},
   "outputs": [],
   "source": [
    "wiki_df = pd.DataFrame(wiki_movies)"
   ]
  },
  {
   "cell_type": "code",
   "execution_count": null,
   "id": "58b55125",
   "metadata": {},
   "outputs": [],
   "source": [
    "wiki_df.head()"
   ]
  },
  {
   "cell_type": "markdown",
   "id": "5da7b72b",
   "metadata": {},
   "source": [
    "## Create a Function to Clean the Data:  Part 1\n",
    "\n"
   ]
  },
  {
   "cell_type": "code",
   "execution_count": null,
   "id": "726461f4",
   "metadata": {},
   "outputs": [],
   "source": [
    "# Create a function to help fild and delete unneeded data during this next cycle.\n",
    "\n",
    "def clean_movie(movie):\n",
    "    movie = dict(movie) # Create a non-destructive copy.\n",
    "    alt_titles = {}\n",
    "    for key in ['Also known as', 'Arabic', 'Cantonese', 'Chinese', 'French,'\n",
    "               'Hangul', 'Hebrew', 'Hepburn', 'Japanese', 'Literally',\n",
    "                'Mandarin', 'McCune-Reischauer', 'Original title', 'Polish',\n",
    "                'Revised Romanization', 'Romanized', 'Russian',\n",
    "                'Simplified', 'Traditional', 'Yiddish']:\n",
    "        if key in movie:\n",
    "            alt_titles[key] = movie[key]\n",
    "            movie.pop(key)\n",
    "    if len(alt_titles) > 0 :\n",
    "        movie['alt_titles'] = alt_titles\n",
    "        \n",
    "    return movie\n"
   ]
  },
  {
   "cell_type": "code",
   "execution_count": null,
   "id": "66d240c6",
   "metadata": {},
   "outputs": [],
   "source": [
    "clean_movies = [clean_movie(movie) for movie in wiki_movies]\n"
   ]
  },
  {
   "cell_type": "code",
   "execution_count": null,
   "id": "4d997ad8",
   "metadata": {},
   "outputs": [],
   "source": [
    "wiki_movies_df = pd.DataFrame(clean_movies)\n"
   ]
  },
  {
   "cell_type": "code",
   "execution_count": null,
   "id": "b1ff09cd",
   "metadata": {},
   "outputs": [],
   "source": [
    "# This function will be applied to the data using a list comprehension as well.\n",
    "\n",
    "sorted(wiki_movies_df.columns.tolist())\n"
   ]
  },
  {
   "cell_type": "markdown",
   "id": "6c93d097",
   "metadata": {},
   "source": [
    "## Create a Function to Clean the Data: Part 2"
   ]
  },
  {
   "cell_type": "code",
   "execution_count": null,
   "id": "37c9d0a4",
   "metadata": {},
   "outputs": [],
   "source": [
    "def clean_movie(movie):\n",
    "    movie = dict(movie) # Create a non-destructive copy.\n",
    "    alt_titles = {}\n",
    "    \n",
    "    # Combine alternate titles into one list.\n",
    "    for key in ['Also known as', 'Arabic', 'Cantonese', 'Chinese', 'French,'\n",
    "               'Hangul', 'Hebrew', 'Hepburn', 'Japanese', 'Literally',\n",
    "                'Mandarin', 'McCune-Reischauer', 'Original title', 'Polist',\n",
    "                'Revised Romanization', 'Romanized', 'Russian',\n",
    "                'Simplified', 'Traditional', 'Yiddish']:\n",
    "        if key in movie:\n",
    "            if key == 'Russian':\n",
    "                print(movie)\n",
    "            alt_titles[key] = movie[key]\n",
    "            movie.pop(key)\n",
    "    if len(alt_titles) > 0 :\n",
    "        movie['alt_titles'] = alt_titles\n",
    "    \n",
    "     # Merge column names.\n",
    "    def change_column_name(old_name, new_name):\n",
    "        if old_name in movie:\n",
    "            movie[new_name] = movie.pop(old_name)\n",
    "    change_column_name('Adaptation by', 'Writer(s)')\n",
    "    change_column_name('Country of origin', 'Country')\n",
    "    change_column_name('Directed by', 'Director')\n",
    "    change_column_name('Distributed by', 'Distributor')\n",
    "    change_column_name('Edited by', 'Editor(s)')\n",
    "    change_column_name('Length', 'Running time')\n",
    "    change_column_name('Original release', 'Release date')\n",
    "    change_column_name('Music by', 'Composer(s)')\n",
    "    change_column_name('Produced by', 'Producer(s)')\n",
    "    change_column_name('Producer', 'Producer(s)')\n",
    "    change_column_name('Productioncompanies ', 'Production company(s)')\n",
    "    change_column_name('Productioncompany ', 'Production company(s)')\n",
    "    change_column_name('Released', 'Release Date')\n",
    "    change_column_name('Release Date', 'Release date')\n",
    "    change_column_name('Screen story by', 'Writer(s)')\n",
    "    change_column_name('Screenplay by', 'Writer(s)')\n",
    "    change_column_name('Story by', 'Writer(s)')\n",
    "    change_column_name('Theme music composer', 'Composer(s)')\n",
    "    change_column_name('Written by', 'Writer(s)')\n",
    "    \n",
    "    return movie\n",
    "\n",
    "        "
   ]
  },
  {
   "cell_type": "code",
   "execution_count": null,
   "id": "1d519f1a",
   "metadata": {},
   "outputs": [],
   "source": [
    "clean_movies = [clean_movie(movie) for movie in wiki_movies]\n",
    "wiki_movies_df = pd.DataFrame(clean_movies)\n"
   ]
  },
  {
   "cell_type": "code",
   "execution_count": null,
   "id": "62325e45",
   "metadata": {},
   "outputs": [],
   "source": [
    "wiki_movies_df = pd.DataFrame(clean_movies)\n",
    "sorted(wiki_movies_df.columns.tolist())\n"
   ]
  },
  {
   "cell_type": "code",
   "execution_count": null,
   "id": "f53e752f",
   "metadata": {},
   "outputs": [],
   "source": []
  }
 ],
 "metadata": {
  "kernelspec": {
   "display_name": "PythonData",
   "language": "python",
   "name": "pythondata"
  },
  "language_info": {
   "codemirror_mode": {
    "name": "ipython",
    "version": 3
   },
   "file_extension": ".py",
   "mimetype": "text/x-python",
   "name": "python",
   "nbconvert_exporter": "python",
   "pygments_lexer": "ipython3",
   "version": "3.7.13"
  }
 },
 "nbformat": 4,
 "nbformat_minor": 5
}
