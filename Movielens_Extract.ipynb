{
 "cells": [
  {
   "cell_type": "code",
   "execution_count": null,
   "id": "2dc35028",
   "metadata": {},
   "outputs": [],
   "source": [
    "import pandas as pd\n"
   ]
  },
  {
   "cell_type": "code",
   "execution_count": null,
   "id": "8610b4e6",
   "metadata": {},
   "outputs": [],
   "source": [
    "# Read Kaggle files\n",
    "\n",
    "kaggle_metadata = pd.read_csv(\"movies_metadata.csv\")\n",
    "ratings = pd.read_csv('ratings.csv')\n"
   ]
  },
  {
   "cell_type": "code",
   "execution_count": null,
   "id": "9e0272ac",
   "metadata": {},
   "outputs": [],
   "source": [
    "# Look at some data in metadata\n",
    "\n",
    "kaggle_metadata.head()\n"
   ]
  },
  {
   "cell_type": "code",
   "execution_count": null,
   "id": "6e914a06",
   "metadata": {},
   "outputs": [],
   "source": [
    "# Look at some more data in metadata\n",
    "\n",
    "kaggle_metadata.tail()\n"
   ]
  },
  {
   "cell_type": "code",
   "execution_count": null,
   "id": "c9b77c74",
   "metadata": {},
   "outputs": [],
   "source": [
    "# Look at some random 5 rows of data in metadata\n",
    "\n",
    "kaggle_metadata.sample(n=5)\n"
   ]
  },
  {
   "cell_type": "code",
   "execution_count": null,
   "id": "25d82bde",
   "metadata": {},
   "outputs": [],
   "source": [
    "# Look at some data in ratings\n",
    "\n",
    "ratings.head()\n"
   ]
  },
  {
   "cell_type": "code",
   "execution_count": null,
   "id": "81011f0c",
   "metadata": {},
   "outputs": [],
   "source": [
    "# Look at some more data in ratings\n",
    "\n",
    "ratings.tail()\n"
   ]
  },
  {
   "cell_type": "code",
   "execution_count": null,
   "id": "2841a6e8",
   "metadata": {},
   "outputs": [],
   "source": [
    "# Look at some random 5 rows of data in ratings\n",
    "\n",
    "ratings.sample(n=5)\n"
   ]
  },
  {
   "cell_type": "code",
   "execution_count": null,
   "id": "ed49e82a",
   "metadata": {},
   "outputs": [],
   "source": []
  }
 ],
 "metadata": {
  "kernelspec": {
   "display_name": "PythonData",
   "language": "python",
   "name": "pythondata"
  },
  "language_info": {
   "codemirror_mode": {
    "name": "ipython",
    "version": 3
   },
   "file_extension": ".py",
   "mimetype": "text/x-python",
   "name": "python",
   "nbconvert_exporter": "python",
   "pygments_lexer": "ipython3",
   "version": "3.7.13"
  }
 },
 "nbformat": 4,
 "nbformat_minor": 5
}
